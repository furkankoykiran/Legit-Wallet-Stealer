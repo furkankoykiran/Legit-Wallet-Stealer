{
 "cells": [
  {
   "cell_type": "markdown",
   "metadata": {},
   "source": [
    "# Legit Wallet Checker - Google Colab Edition\n",
    "\n",
    "This notebook provides a GPU-accelerated implementation for checking Ethereum wallet balances."
   ]
  },
  {
   "cell_type": "code",
   "execution": 2,
   "metadata": {},
   "source": [
    "#@title 🔧 Verify GPU\n",
    "!nvidia-smi  # Check GPU availability"
   ]
  },
  {
   "cell_type": "code",
   "execution": 2,
   "metadata": {},
   "source": [
    "#@title 📦 Install Python 3.12\n",
    "%%capture\n",
    "!apt update && apt install -y software-properties-common python3-pip build-essential\n",
    "!add-apt-repository -y ppa:deadsnakes/ppa\n",
    "!apt install -y python3.12 python3.12-venv python3.12-dev\n",
    "!update-alternatives --install /usr/bin/python3 python3 /usr/bin/python3.12 1\n",
    "!curl -sS https://bootstrap.pypa.io/get-pip.py | python3.12\n",
    "\n",
    "print(\"Python version:\")\n",
    "!python3 --version"
   ]
  },
  {
   "cell_type": "code",
   "execution": 2,
   "metadata": {},
   "source": [
    "#@title 📦 Install Dependencies\n",
    "%%capture\n",
    "# Install base dependencies\n",
    "!python3 -m pip install --upgrade pip wheel setuptools numpy typing-extensions\n",
    "\n",
    "# Install PyTorch with CUDA support\n",
    "!pip3 install torch==2.2.0 torchvision==0.17.0 torchaudio==2.2.0 --index-url https://download.pytorch.org/whl/cu121\n",
    "\n",
    "# Install Poetry and project dependencies\n",
    "!curl -sSL https://install.python-poetry.org | python3 -\n",
    "!git clone https://github.com/furkankoykiran/Legit-Wallet-Stealer\n",
    "%cd Legit-Wallet-Stealer\n",
    "!poetry config virtualenvs.create false\n",
    "!poetry install\n",
    "\n",
    "# Download optimized word list\n",
    "!curl -L https://raw.githubusercontent.com/bitcoin/bips/master/bip-0039/english.txt -o words.txt\n",
    "\n",
    "# Verify CUDA\n",
    "import torch\n",
    "if not torch.cuda.is_available():\n",
    "    raise RuntimeError(\"CUDA GPU required\")\n",
    "print(f\"PyTorch {torch.__version__} with CUDA {torch.version.cuda}\")\n",
    "print(f\"GPU: {torch.cuda.get_device_name(0)}\")"
   ]
  },
  {
   "cell_type": "code",
   "execution": 2,
   "metadata": {},
   "source": [
    "#@title 🔑 Configure Telegram Bot\n",
    "import os\n",
    "\n",
    "# @markdown Enter your Telegram bot credentials:\n",
    "telegram_token = '' #@param {type:\"string\"}\n",
    "telegram_chat_id = '' #@param {type:\"string\"}\n",
    "\n",
    "if not telegram_token or not telegram_chat_id:\n",
    "    raise ValueError(\"Both Telegram bot token and chat ID are required\")\n",
    "\n",
    "os.environ['TELEGRAM_BOT_TOKEN'] = telegram_token\n",
    "os.environ['TELEGRAM_CHAT_ID'] = telegram_chat_id"
   ]
  },
  {
   "cell_type": "code",
   "execution": 2,
   "metadata": {},
   "source": [
    "#@title ⚡ Start Wallet Checker\n",
    "!python3 main.py"
   ]
  }
 ],
 "metadata": {
  "accelerator": "GPU",
  "colab": {
   "collapsed_sections": [],
   "name": "Wallet Checker.ipynb",
   "provenance": []
  },
  "kernelspec": {
   "display_name": "Python 3",
   "name": "python3"
  }
 },
 "nbformat": 4,
 "nbformat_minor": 0
}