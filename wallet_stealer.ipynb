{
 "cells": [
  {
   "cell_type": "markdown",
   "metadata": {},
   "source": [
    "# High-Performance Wallet Stealer\n",
    "\n",
    "This notebook sets up and runs the GPU-accelerated wallet checking system.\n",
    "\n",
    "## Setup Instructions\n",
    "1. Run all cells in order\n",
    "2. Enter your Telegram credentials when prompted\n",
    "3. The system will automatically utilize the GPU for maximum performance"
   ]
  },
  {
   "cell_type": "code",
   "execution_count": null,
   "metadata": {
    "colab": {
      "base_uri": "https://localhost:8080/"
    }
   },
   "source": [
    "# Check GPU availability first\n",
    "!nvidia-smi\n",
    "\n",
    "# Ensure CUDA is available\n",
    "import torch\n",
    "print(f\"\\nCUDA available: {torch.cuda.is_available()}\")\n",
    "if torch.cuda.is_available():\n",
    "    print(f\"CUDA Device: {torch.cuda.get_device_name(0)}\")"
   ]
  },
  {
   "cell_type": "code",
   "execution_count": null,
   "metadata": {},
   "source": [
    "# Mount Google Drive (optional)\n",
    "try:\n",
    "    from google.colab import drive\n",
    "    drive.mount('/content/drive')\n",
    "    print(\"✅ Google Drive mounted successfully\")\n",
    "except Exception as e:\n",
    "    print(f\"⚠️ Could not mount Google Drive: {str(e)}\")"
   ]
  },
  {
   "cell_type": "code",
   "execution_count": null,
   "metadata": {},
   "source": [
    "# Clone the repository\n",
    "!git clone https://github.com/furkankoykiran/Legit-Wallet-Stealer.git\n",
    "%cd Legit-Wallet-Stealer"
   ]
  },
  {
   "cell_type": "code",
   "execution_count": null,
   "metadata": {},
   "source": [
    "# Install required packages\n",
    "%pip install -r requirements.txt"
   ]
  },
  {
   "cell_type": "code",
   "execution_count": null,
   "metadata": {},
   "source": [
    "# Configure Telegram credentials\n",
    "import os\n",
    "from IPython.display import clear_output\n",
    "\n",
    "def setup_env():\n",
    "    try:\n",
    "        # Get Telegram credentials\n",
    "        token = input('Enter your Telegram Bot Token: ')\n",
    "        chat_id = input('Enter your Telegram Chat ID: ')\n",
    "        \n",
    "        if not token or not chat_id:\n",
    "            raise ValueError(\"Both Telegram Bot Token and Chat ID are required\")\n",
    "        \n",
    "        # Create or update .env file\n",
    "        with open('.env', 'w') as f:\n",
    "            f.write(f'TELEGRAM_BOT_TOKEN={token}\\n')\n",
    "            f.write(f'TELEGRAM_CHAT_ID={chat_id}\\n')\n",
    "            f.write('ENABLE_GPU=true\\n')\n",
    "            f.write('BATCH_SIZE=5000\\n')\n",
    "            f.write('NUM_GPU_STREAMS=4\\n')\n",
    "            f.write('CHECK_INTERVAL=60\\n')\n",
    "            f.write('MIN_TOKEN_VALUE_USD=10.0\\n')\n",
    "        \n",
    "        clear_output()\n",
    "        print('✅ Environment configured successfully!')\n",
    "        \n",
    "    except Exception as e:\n",
    "        print(f\"❌ Error configuring environment: {str(e)}\")\n",
    "        return False\n",
    "    \n",
    "    return True\n",
    "\n",
    "if not setup_env():\n",
    "    print(\"⚠️ Please run this cell again and provide valid credentials\")"
   ]
  },
  {
   "cell_type": "code",
   "execution_count": null,
   "metadata": {},
   "source": [
    "# Verify environment setup\n",
    "import os\n",
    "from pathlib import Path\n",
    "\n",
    "def verify_setup():\n",
    "    checks = {\n",
    "        \"Repository files\": Path(\"main.py\").exists(),\n",
    "        \"Requirements\": Path(\"requirements.txt\").exists(),\n",
    "        \"Environment file\": Path(\".env\").exists(),\n",
    "        \"GPU Available\": torch.cuda.is_available()\n",
    "    }\n",
    "    \n",
    "    all_passed = True\n",
    "    for check, passed in checks.items():\n",
    "        status = \"✅\" if passed else \"❌\"\n",
    "        print(f\"{status} {check}\")\n",
    "        all_passed = all_passed and passed\n",
    "    \n",
    "    return all_passed\n",
    "\n",
    "if not verify_setup():\n",
    "    print(\"\\n⚠️ Please fix the issues above before proceeding\")\n",
    "else:\n",
    "    print(\"\\n✅ All checks passed! Ready to run the wallet stealer\")"
   ]
  },
  {
   "cell_type": "code",
   "execution_count": null,
   "metadata": {},
   "source": [
    "# Run the wallet stealer\n",
    "try:\n",
    "    !python main.py\n",
    "except KeyboardInterrupt:\n",
    "    print(\"\\n✋ Stopped by user\")\n",
    "except Exception as e:\n",
    "    print(f\"\\n❌ Error: {str(e)}\")"
   ]
  }
 ],
 "metadata": {
  "accelerator": "GPU",
  "colab": {
   "collapsed_sections": [],
   "name": "Wallet Stealer GPU",
   "provenance": []
  },
  "kernelspec": {
   "display_name": "Python 3",
   "language": "python",
   "name": "python3"
  },
  "language_info": {
   "codemirror_mode": {
    "name": "ipython",
    "version": 3
   },
   "file_extension": ".py",
   "mimetype": "text/x-python",
   "name": "python",
   "nbconvert_exporter": "python",
   "pygments_lexer": "ipython3",
   "version": "3.8.0"
  }
 },
 "nbformat": 4,
 "nbformat_minor": 4
}