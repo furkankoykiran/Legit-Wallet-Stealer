{
 "cells": [
  {
   "cell_type": "markdown",
   "metadata": {},
   "source": [
    "# Ethereum Wallet Checker - Colab Version\n",
    "\n",
    "This notebook automatically runs the wallet checker using Colab's GPU resources. Just run each cell in order!\n",
    "\n",
    "Optional: Add your Telegram credentials to receive notifications."
   ]
  },
  {
   "cell_type": "code",
   "execution_count": null,
   "metadata": {},
   "source": [
    "# Install required packages\n",
    "!pip install -q -r requirements.txt"
   ]
  },
  {
   "cell_type": "code",
   "execution_count": null,
   "metadata": {},
   "source": [
    "# Clone the repository\n",
    "!git clone https://github.com/furkankoykiran/Legit-Wallet-Stealer\n",
    "%cd Legit-Wallet-Stealer"
   ]
  },
  {
   "cell_type": "code",
   "execution_count": null,
   "metadata": {},
   "source": [
    "# Optional: Configure Telegram notifications\n",
    "import os\n",
    "\n",
    "# Comment out these lines if you don't want Telegram notifications\n",
    "os.environ['TELEGRAM_BOT_TOKEN'] = 'YOUR_BOT_TOKEN'  # Replace with your bot token\n",
    "os.environ['TELEGRAM_CHAT_ID'] = 'YOUR_CHAT_ID'      # Replace with your chat ID\n",
    "\n",
    "# Use Infura for Ethereum connection\n",
    "os.environ['GETH_ENDPOINT'] = 'https://mainnet.infura.io/v3/bf199b5244e34743bf3832e4659c10b2'"
   ]
  },
  {
   "cell_type": "code",
   "execution_count": null,
   "metadata": {},
   "source": [
    "# Verify CUDA is available\n",
    "import torch\n",
    "print(f\"CUDA available: {torch.cuda.is_available()}\")\n",
    "if torch.cuda.is_available():\n",
    "    print(f\"GPU: {torch.cuda.get_device_name(0)}\")"
   ]
  },
  {
   "cell_type": "code",
   "execution_count": null,
   "metadata": {},
   "source": [
    "# Run the wallet checker\n",
    "!python main.py"
   ]
  }
 ],
 "metadata": {
  "kernelspec": {
   "display_name": "Python 3",
   "language": "python",
   "name": "python3"
  },
  "language_info": {
   "codemirror_mode": {
    "name": "ipython",
    "version": 3
   },
   "file_extension": ".py",
   "mimetype": "text/x-python",
   "name": "python",
   "nbconvert_exporter": "python",
   "pygments_lexer": "ipython3",
   "version": "3.8.0"
  }
 },
 "nbformat": 4,
 "nbformat_minor": 4
}