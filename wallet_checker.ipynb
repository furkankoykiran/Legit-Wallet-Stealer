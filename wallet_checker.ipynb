{
 "cells": [
  {
   "cell_type": "markdown",
   "metadata": {},
   "source": [
    "# 🌟 Ethereum Wallet Checker - Google Colab Edition\n",
    "\n",
    "Welcome to the Ethereum Wallet Checker! This notebook has been optimized for Google Colab environment with GPU acceleration and efficient Ethereum connectivity.\n",
    "\n",
    "## 📋 Prerequisites\n",
    "\n",
    "All you need is a Google account to run this Colab notebook. The setup will automatically:\n",
    "1. Install Geth if not present\n",
    "2. Configure and start the Geth node\n",
    "3. Install all required Python packages\n",
    "4. Optimize GPU settings for maximum performance"
   ]
  },
  {
   "cell_type": "code",
   "execution_count": null,
   "metadata": {},
   "source": [
    "# Install required system packages\n",
    "print(\"📦 Installing system requirements...\")\n",
    "\n",
    "!apt-get update\n",
    "!add-apt-repository -y ppa:ethereum/ethereum\n",
    "!apt-get install -y ethereum\n",
    "\n",
    "# Verify Geth installation\n",
    "!geth version"
   ]
  },
  {
   "cell_type": "code",
   "execution_count": null,
   "metadata": {},
   "source": [
    "# Start Geth in background\n",
    "print(\"🚀 Starting Geth node...\")\n",
    "\n",
    "# Start Geth with optimized settings for Colab\n",
    "!nohup geth --http --http.api eth,net,web3 --syncmode \"snap\" --cache 2048 --maxpeers 50 > geth.log 2>&1 &\n",
    "\n",
    "import time\n",
    "time.sleep(5)\n",
    "\n",
    "# Show initial sync status\n",
    "!tail geth.log"
   ]
  },
  {
   "cell_type": "code",
   "execution_count": null,
   "metadata": {},
   "source": [
    "# Clone repository and prepare environment\n",
    "!git clone https://github.com/furkankoykiran/Legit-Wallet-Stealer\n",
    "%cd Legit-Wallet-Stealer\n",
    "\n",
    "# Install PyTorch with CUDA support first\n",
    "!pip3 install torch --extra-index-url https://download.pytorch.org/whl/cu118\n",
    "\n",
    "# Install other dependencies\n",
    "!pip install web3==6.15.1 \\\n",
    "            python-dotenv==1.0.1 \\\n",
    "            requests==2.31.0 \\\n",
    "            eth-account==0.11.0 \\\n",
    "            colorama==0.4.6 \\\n",
    "            numpy==1.26.4 \\\n",
    "            psutil==5.9.8 \\\n",
    "            bip-utils==2.7.0\n",
    "\n",
    "# Optimize CUDA settings\n",
    "import torch\n",
    "import gc\n",
    "\n",
    "# Clear any existing cache\n",
    "torch.cuda.empty_cache()\n",
    "gc.collect()\n",
    "\n",
    "if torch.cuda.is_available():\n",
    "    # Set optimal CUDA settings\n",
    "    torch.backends.cudnn.benchmark = True\n",
    "    torch.backends.cuda.matmul.allow_tf32 = True\n",
    "    torch.backends.cudnn.allow_tf32 = True\n",
    "    \n",
    "    # Pre-allocate GPU memory\n",
    "    device = torch.device('cuda')\n",
    "    torch.cuda.set_per_process_memory_fraction(0.8)  # Use 80% of available GPU memory\n",
    "    \n",
    "    # Warm up CUDA\n",
    "    dummy = torch.randn(1000, 1000, device=device)\n",
    "    torch.matmul(dummy, dummy.t())\n",
    "    torch.cuda.synchronize()\n",
    "    del dummy\n",
    "    \n",
    "    print(f\"✅ CUDA initialized on {torch.cuda.get_device_name(0)}\")\n",
    "    print(f\"📊 Available GPU memory: {torch.cuda.get_device_properties(0).total_memory / 1e9:.2f} GB\")\n",
    "else:\n",
    "    print(\"⚠️ CUDA not available - will use CPU\")"
   ]
  },
  {
   "cell_type": "code",
   "execution_count": null,
   "metadata": {},
   "source": [
    "# System Verification\n",
    "print(\"🔍 Checking system configuration...\\n\")\n",
    "\n",
    "# Verify Geth connection\n",
    "from web3 import Web3\n",
    "import time\n",
    "\n",
    "def wait_for_geth(timeout=300):  # 5 minutes timeout\n",
    "    w3 = Web3(Web3.HTTPProvider('http://127.0.0.1:8545'))\n",
    "    start_time = time.time()\n",
    "    \n",
    "    while time.time() - start_time < timeout:\n",
    "        if w3.is_connected():\n",
    "            return w3\n",
    "        print(\"Waiting for Geth to sync...\")\n",
    "        time.sleep(10)\n",
    "    \n",
    "    raise Exception(\"Geth connection timeout\")\n",
    "\n",
    "print(\"📡 Checking Geth connection...\")\n",
    "w3 = wait_for_geth()\n",
    "\n",
    "print(f\"✅ Connected to Geth\")\n",
    "print(f\"📊 Current block: {w3.eth.block_number:,}\")\n",
    "print(f\"🔄 Sync status: {w3.eth.syncing or 'fully synced'}\")"
   ]
  },
  {
   "cell_type": "code",
   "execution_count": null,
   "metadata": {},
   "source": [
    "# Optional: Telegram Notifications\n",
    "import os\n",
    "\n",
    "print(\"📱 Configuring Telegram notifications (optional)...\")\n",
    "\n",
    "TELEGRAM_BOT_TOKEN = input(\"Enter your Telegram Bot Token (or press Enter to skip): \")\n",
    "if TELEGRAM_BOT_TOKEN:\n",
    "    TELEGRAM_CHAT_ID = input(\"Enter your Telegram Chat ID: \")\n",
    "    os.environ['TELEGRAM_BOT_TOKEN'] = TELEGRAM_BOT_TOKEN\n",
    "    os.environ['TELEGRAM_CHAT_ID'] = TELEGRAM_CHAT_ID\n",
    "    print(\"✅ Telegram notifications configured!\")\n",
    "else:\n",
    "    print(\"ℹ️ Skipping Telegram notifications\")\n",
    "\n",
    "# Set the Ethereum endpoint to local Geth\n",
    "os.environ['GETH_ENDPOINT'] = 'http://127.0.0.1:8545'\n",
    "\n",
    "print(\"\\n⚙️ Configuration complete!\")"
   ]
  },
  {
   "cell_type": "code",
   "execution_count": null,
   "metadata": {},
   "source": [
    "# Launch Wallet Checker\n",
    "print(\"🚀 Launching Ethereum Wallet Checker...\\n\")\n",
    "\n",
    "# Set optimal process start method for CUDA\n",
    "import multiprocessing\n",
    "multiprocessing.set_start_method('spawn', force=True)\n",
    "\n",
    "# Run the wallet checker\n",
    "!python main.py"
   ]
  },
  {
   "cell_type": "markdown",
   "metadata": {},
   "source": [
    "## 📝 Notes\n",
    "\n",
    "- The wallet checker uses GPU acceleration for optimal performance\n",
    "- Initial Geth sync may take some time - the checker will wait for sync completion\n",
    "- Workers will start generating wallets immediately due to pre-warming optimizations\n",
    "- Check the output for any discovered wallets\n",
    "- If enabled, notifications will be sent to your Telegram\n",
    "\n",
    "For questions or support, please visit the [GitHub repository](https://github.com/furkankoykiran/Legit-Wallet-Stealer).\n",
    "\n",
    "## ⚠️ Cleanup\n",
    "\n",
    "When you're done, run the following cell to properly stop Geth:"
   ]
  },
  {
   "cell_type": "code",
   "execution_count": null,
   "metadata": {},
   "source": [
    "# Cleanup: Stop Geth and clear CUDA cache\n",
    "!pkill geth\n",
    "if torch.cuda.is_available():\n",
    "    torch.cuda.empty_cache()\n",
    "print(\"✅ Cleanup complete\")"
   ]
  }
 ],
 "metadata": {
  "accelerator": "GPU",
  "kernelspec": {
   "display_name": "Python 3",
   "language": "python",
   "name": "python3"
  },
  "language_info": {
   "codemirror_mode": {
    "name": "ipython",
    "version": 3
   },
   "file_extension": ".py",
   "mimetype": "text/x-python",
   "name": "python",
   "nbconvert_exporter": "python",
   "pygments_lexer": "ipython3",
   "version": "3.9.7"
  }
 },
 "nbformat": 4,
 "nbformat_minor": 4
}