{
 "cells": [
  {
   "cell_type": "markdown",
   "metadata": {},
   "source": [
    "# 🌟 Ethereum Wallet Checker - Professional Edition\n",
    "\n",
    "Welcome to the Ethereum Wallet Checker! This notebook provides a streamlined experience for running the wallet checker using Poetry for dependency management and a local Geth node for optimal Ethereum connectivity.\n",
    "\n",
    "## 📋 Prerequisites\n",
    "\n",
    "Before starting, ensure you have:\n",
    "1. **Geth** installed from [geth.ethereum.org/downloads](https://geth.ethereum.org/downloads/)\n",
    "2. Started Geth with: `geth --http --syncmode \"snap\"`\n",
    "3. Python 3.12 or higher installed\n",
    "\n",
    "## 🚀 Getting Started\n",
    "\n",
    "Simply run each cell in order. The notebook will guide you through the setup process and verify each step along the way."
   ]
  },
  {
   "cell_type": "markdown",
   "metadata": {},
   "source": [
    "## 1️⃣ Project Setup\n",
    "\n",
    "First, we'll clone the repository and set up our development environment."
   ]
  },
  {
   "cell_type": "code",
   "execution_count": null,
   "metadata": {},
   "source": [
    "print(\"📥 Cloning repository...\")\n",
    "!git clone https://github.com/furkankoykiran/Legit-Wallet-Stealer\n",
    "\n",
    "print(\"\\n📂 Changing to project directory...\")\n",
    "%cd Legit-Wallet-Stealer"
   ]
  },
  {
   "cell_type": "markdown",
   "metadata": {},
   "source": [
    "## 2️⃣ Dependencies Installation\n",
    "\n",
    "Now we'll set up Poetry and install all required dependencies."
   ]
  },
  {
   "cell_type": "code",
   "execution_count": null,
   "metadata": {},
   "source": [
    "print(\"🔧 Installing Poetry...\")\n",
    "!curl -sSL https://install.python-poetry.org | python3 -\n",
    "\n",
    "print(\"\\n📦 Installing project dependencies...\")\n",
    "!poetry install\n",
    "\n",
    "print(\"\\n✅ Setup complete!\")"
   ]
  },
  {
   "cell_type": "markdown",
   "metadata": {},
   "source": [
    "## 3️⃣ System Verification\n",
    "\n",
    "Let's verify that all required components are properly configured."
   ]
  },
  {
   "cell_type": "code",
   "execution_count": null,
   "metadata": {},
   "source": [
    "print(\"🔍 Checking system configuration...\\n\")\n",
    "\n",
    "# Verify Geth connection\n",
    "from web3 import Web3\n",
    "w3 = Web3(Web3.HTTPProvider('http://127.0.0.1:8545'))\n",
    "\n",
    "print(\"📡 Ethereum Node Status:\")\n",
    "if w3.is_connected():\n",
    "    print(f\"✅ Connected to Geth\")\n",
    "    print(f\"📊 Current block: {w3.eth.block_number:,}\")\n",
    "else:\n",
    "    print(\"❌ Geth connection failed\")\n",
    "    print(\"⚠️ Please ensure Geth is running with: geth --http --syncmode \\\"snap\\\"\")\n",
    "\n",
    "# Verify CUDA availability\n",
    "print(\"\\n🖥️ GPU Status:\")\n",
    "import torch\n",
    "if torch.cuda.is_available():\n",
    "    print(f\"✅ CUDA available\")\n",
    "    print(f\"📎 GPU: {torch.cuda.get_device_name(0)}\")\n",
    "else:\n",
    "    print(\"⚠️ CUDA not available - will use CPU instead\")"
   ]
  },
  {
   "cell_type": "markdown",
   "metadata": {},
   "source": [
    "## 4️⃣ Optional: Telegram Notifications\n",
    "\n",
    "Set up Telegram notifications to receive updates about discovered wallets (optional)."
   ]
  },
  {
   "cell_type": "code",
   "execution_count": null,
   "metadata": {},
   "source": [
    "import os\n",
    "\n",
    "# Uncomment and configure these lines to enable Telegram notifications\n",
    "# os.environ['TELEGRAM_BOT_TOKEN'] = 'YOUR_BOT_TOKEN'  # Replace with your bot token\n",
    "# os.environ['TELEGRAM_CHAT_ID'] = 'YOUR_CHAT_ID'      # Replace with your chat ID\n",
    "\n",
    "# Configure Ethereum node connection\n",
    "os.environ['GETH_ENDPOINT'] = 'http://127.0.0.1:8545'\n",
    "\n",
    "print(\"⚙️ Configuration complete!\")"
   ]
  },
  {
   "cell_type": "markdown",
   "metadata": {},
   "source": [
    "## 5️⃣ Launch Wallet Checker\n",
    "\n",
    "Everything is set up! Let's start the wallet checker."
   ]
  },
  {
   "cell_type": "code",
   "execution_count": null,
   "metadata": {},
   "source": [
    "print(\"🚀 Launching Ethereum Wallet Checker...\\n\")\n",
    "!poetry run python main.py"
   ]
  },
  {
   "cell_type": "markdown",
   "metadata": {},
   "source": [
    "---\n",
    "## 📝 Notes\n",
    "\n",
    "- The wallet checker will continue running until manually stopped\n",
    "- Check the output for any discovered wallets\n",
    "- If enabled, notifications will be sent to your Telegram\n",
    "- For optimal performance, ensure your Geth node is fully synced\n",
    "\n",
    "For questions or support, please visit the [GitHub repository](https://github.com/furkankoykiran/Legit-Wallet-Stealer)."
   ]
  }
 ],
 "metadata": {
  "kernelspec": {
   "display_name": "Python 3",
   "language": "python",
   "name": "python3"
  }
 },
 "nbformat": 4,
 "nbformat_minor": 4
}